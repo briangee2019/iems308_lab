{
 "cells": [
  {
   "cell_type": "markdown",
   "metadata": {},
   "source": [
    "# IEMS 308 Lab Session 1 \n",
    "## TA: Suraj Yerramilli"
   ]
  },
  {
   "cell_type": "code",
   "execution_count": null,
   "metadata": {
    "collapsed": true
   },
   "outputs": [],
   "source": []
  },
  {
   "cell_type": "markdown",
   "metadata": {},
   "source": [
    "## Python Basics "
   ]
  },
  {
   "cell_type": "markdown",
   "metadata": {},
   "source": [
    "### Never used Python?"
   ]
  },
  {
   "cell_type": "markdown",
   "metadata": {},
   "source": [
    "When switching from R to Python, there are two major differences to begin with:\n",
    "\n",
    "1. Indexing: Indexes begin from 0 instead of 1. Python also supports negative indexing, i.e. indexing from the rear.\n",
    "2. Indentation: Demarcates blocks instead of curly brackets { }. For example, nested for loops"
   ]
  },
  {
   "cell_type": "code",
   "execution_count": null,
   "metadata": {
    "collapsed": false
   },
   "outputs": [],
   "source": [
    "for i in range(10):\n",
    "    for j in range(3):\n",
    "        if i<j:\n",
    "            print(\"%d < %d\" %(i,j))"
   ]
  },
  {
   "cell_type": "markdown",
   "metadata": {},
   "source": [
    "There are primarily three data-structures which holds collections of objects: lists, tuples and dictionaries."
   ]
  },
  {
   "cell_type": "code",
   "execution_count": null,
   "metadata": {
    "collapsed": false
   },
   "outputs": [],
   "source": [
    "# lists are quite similar to the ones in R: can hold different types\n",
    "l = [1,2.0,3.14e-5,'What?',9.99]  \n",
    "print(l)\n",
    "\n",
    "# One useful method - append (to the end)\n",
    "l.append(34)\n",
    "l.append([4,5,6])\n",
    "print(\"\\nList aftter append operations:\")\n",
    "print(l)\n",
    "\n",
    "# Negative indexing\n",
    "print(l[-2])"
   ]
  },
  {
   "cell_type": "code",
   "execution_count": null,
   "metadata": {
    "collapsed": false
   },
   "outputs": [],
   "source": [
    "# Tuples are immutable versions of lists - once created can't add or modify\n",
    "tup1 = (1,2.0,3.14e-5,'What?',9.99)\n",
    "tup1[3] = 0.4e-4 # returns a TypeError\n",
    "\n",
    "# Useful as arguments or return values of functions"
   ]
  },
  {
   "cell_type": "code",
   "execution_count": null,
   "metadata": {
    "collapsed": false
   },
   "outputs": [],
   "source": [
    "# Dictionaries are key-value pairs - created by either { } or dict\n",
    "d = {'list1':l,'tup1':tup1,'color':'orange','temperature':-30}\n",
    "# No order in which elements are stored\n",
    "\n",
    "# Adding new key-value pair\n",
    "d['zzz'] = \"sleeping\"\n",
    "\n",
    "# Generators to be used in for loops\n",
    "d.items() # returns list of key-value pairs\n",
    "d.keys() # returns list of keys\n",
    "d.values() # returns list of values\n",
    "\n",
    "# Example Usage in for loop\n",
    "for key,value in d.items():\n",
    "    print((key,value))"
   ]
  },
  {
   "cell_type": "code",
   "execution_count": null,
   "metadata": {
    "collapsed": false
   },
   "outputs": [],
   "source": [
    "# Shorthand for operations - creatings collections on the fly\n",
    "l2 = [(i,z) for i,z in enumerate(l)]\n",
    "print(l2)"
   ]
  },
  {
   "cell_type": "markdown",
   "metadata": {},
   "source": [
    "### Functions"
   ]
  },
  {
   "cell_type": "markdown",
   "metadata": {
    "collapsed": true
   },
   "source": [
    "Functions in python have the following syntax:\n",
    "\n",
    "```python\n",
    "def function_name(arg1,arg2,...,argn):\n",
    "    # some operations\n",
    "    return out1,out2,...,outm\n",
    "```\n",
    "\n",
    "**Exercise**: Complete the following function to return the minimum element of a list and its index within the list. Test it on the given list "
   ]
  },
  {
   "cell_type": "code",
   "execution_count": 25,
   "metadata": {
    "collapsed": false
   },
   "outputs": [
    {
     "data": {
      "text/plain": [
       "(4, 0)"
      ]
     },
     "execution_count": 25,
     "metadata": {},
     "output_type": "execute_result"
    }
   ],
   "source": [
    "def min_list(x):\n",
    "    '''\n",
    "    Returns the minimum and its index in the list-like object\n",
    "    \n",
    "    Input:\n",
    "    ---------\n",
    "    x: list-like object\n",
    "        \n",
    "    Output:\n",
    "    ---------\n",
    "    min_x: The minimum value in x\n",
    "    min_index: Index of the minimum value in x\n",
    "    '''\n",
    "    \n",
    "    min_x = x[0]\n",
    "    min_index = 0\n",
    "    \n",
    "    ## Loop through the elements to find the minimum\n",
    "    #### Your code goes here ######\n",
    "    \n",
    "    return min_x, min_index\n",
    "\n",
    "# Test list\n",
    "x = [4,9,1,2,2,7,3,5,6,8]\n",
    "min_list(x)"
   ]
  },
  {
   "cell_type": "markdown",
   "metadata": {
    "collapsed": false
   },
   "source": [
    "Notice the content within the ''' ''' block. This is called the function's docstring and is a convenient way of documenting functions and returning help files for the user. To access the docstring, use either the `python .__doc__` attribute of the function,"
   ]
  },
  {
   "cell_type": "code",
   "execution_count": 20,
   "metadata": {
    "collapsed": false
   },
   "outputs": [
    {
     "name": "stdout",
     "output_type": "stream",
     "text": [
      "\n",
      "    Returns the minimum and its index in the list-like object\n",
      "    \n",
      "    Input:\n",
      "    ---------\n",
      "    x: list-like object\n",
      "        \n",
      "    Output:\n",
      "    ---------\n",
      "    min_x: The minimum value in x\n",
      "    min_index: Index of the minimum value in x\n",
      "    \n"
     ]
    }
   ],
   "source": [
    "print(min_list.__doc__)"
   ]
  },
  {
   "cell_type": "markdown",
   "metadata": {},
   "source": [
    "or use the `help` function."
   ]
  },
  {
   "cell_type": "code",
   "execution_count": null,
   "metadata": {
    "collapsed": false
   },
   "outputs": [],
   "source": [
    "help(min_list)"
   ]
  },
  {
   "cell_type": "markdown",
   "metadata": {},
   "source": [
    "Docstrings are also used for documenting class methods as show in the next example."
   ]
  },
  {
   "cell_type": "markdown",
   "metadata": {},
   "source": [
    "### Classes and Objects"
   ]
  },
  {
   "cell_type": "code",
   "execution_count": 17,
   "metadata": {
    "collapsed": false
   },
   "outputs": [
    {
     "name": "stdout",
     "output_type": "stream",
     "text": [
      "6\n"
     ]
    }
   ],
   "source": [
    "# Example of class and object\n",
    "class Rectangle:  \n",
    "    def __init__(self, length, height):  \n",
    "        ''''' \n",
    "        We write in here what we need to define the object. \n",
    "        Inside the class, we use the defined self-variables as \"self.NameOfVariable\" \n",
    "        '''  \n",
    "        self.length = length  \n",
    "        self.height = height  \n",
    "    def area(self):  # Self-function: Only self-variables required\n",
    "        ''''' \n",
    "        Note that we always have to specify \"self\" in our class functions\n",
    "        '''  \n",
    "        Rec_area=self.length*self.height  \n",
    "        return Rec_area  \n",
    "    def horizontal_Concatenation(self, Other_rectangle):  \n",
    "        '''\n",
    "        Function that implies the current and another object.  \n",
    "        It creates a new rectangle by merging the current and another rect\n",
    "        As it is a Horizontal concatenation we need equal heights \n",
    "        Input: \n",
    "        ----- \n",
    "        self: We always have to specify that \n",
    "        Other_rectangle: The other rectangle we want to merge \n",
    "         \n",
    "        Output: \n",
    "        ------ \n",
    "        New_rectangle: The merged rectangle '''    \n",
    "        if (self.height != Other_rectangle.height):  \n",
    "            print('Ups! I cant do that...Different heights!')  \n",
    "            New_rectangle = 'Err'  \n",
    "        else:  \n",
    "            New_rectangle = Rectangle(self.length+Other_rectangle.length, self.height)  \n",
    "        return New_rectangle  \n",
    "          \n",
    "    def vertical_Concatenation(self,Other_rectangle):  \n",
    "        ''' \n",
    "        Function that implies the current and another object. \n",
    "        It creates a new rectangle by merging the current and another rect\n",
    "        As it is a vertical concatenation we need equal lengths \n",
    " \n",
    "        Input: \n",
    "        ----- \n",
    "        self: We always have to specify that \n",
    "        Other_rectangle: The other rectangle we want to merge \n",
    "        \n",
    "        Output: \n",
    "        ------ \n",
    "        New_rectangle: The merged rectangle \n",
    "        '''          \n",
    "        if self.length != Other_rectangle.length:  \n",
    "            print('Agh! I cant do that...Different lengths!')  \n",
    "            New_rectangle = 'Err'  \n",
    "        else:  \n",
    "            New_rectangle = Rectangle(self.length, self.height+Other_rectangle.height)  \n",
    "        return New_rectangle    \n",
    "\n",
    "\n",
    "a=Rectangle(2,2)  \n",
    "b=Rectangle(2,1)  \n",
    "c = a.vertical_Concatenation(b)  \n",
    "print(c.area())  \n"
   ]
  },
  {
   "cell_type": "markdown",
   "metadata": {},
   "source": [
    "### Importing Libraries"
   ]
  },
  {
   "cell_type": "code",
   "execution_count": 4,
   "metadata": {
    "collapsed": true
   },
   "outputs": [],
   "source": [
    "# Import libraries\n",
    "import os\n",
    "import numpy as np\n",
    "import matplotlib.pyplot as plt\n",
    "\n",
    "# import specific submodules/functions\n",
    "from sklearn.linear_model import LogisticRegression\n",
    "from sklearn.metrics import accuracy_score \n",
    "\n",
    "# needed if using jupyter notebook\n",
    "%matplotlib inline"
   ]
  },
  {
   "cell_type": "markdown",
   "metadata": {},
   "source": [
    "### Working directory (Get and set)"
   ]
  },
  {
   "cell_type": "code",
   "execution_count": null,
   "metadata": {
    "collapsed": false
   },
   "outputs": [],
   "source": [
    "# Print current working directory\n",
    "print(os.getcwd())"
   ]
  },
  {
   "cell_type": "code",
   "execution_count": null,
   "metadata": {
    "collapsed": false
   },
   "outputs": [],
   "source": [
    "# Change working directory\n",
    "# Path can be relative or absolute \n",
    "# Note: Windows users need to use escape sequences for\n",
    "#       absolute paths\n",
    "os.chdir(<path>)\n",
    "\n",
    "# Print new working directory\n",
    "### YOUR CODE GOES HERE"
   ]
  },
  {
   "cell_type": "code",
   "execution_count": null,
   "metadata": {
    "collapsed": true
   },
   "outputs": [],
   "source": [
    "# Change working directory back to the original one\n",
    "### YOUR CODE GOES HERE"
   ]
  },
  {
   "cell_type": "markdown",
   "metadata": {},
   "source": [
    "## NumPy "
   ]
  },
  {
   "cell_type": "markdown",
   "metadata": {},
   "source": [
    "**Question**: How would you store vectors and matrices using Python built-in types?\n",
    "\n",
    "**Answer**: Lists"
   ]
  },
  {
   "cell_type": "code",
   "execution_count": null,
   "metadata": {
    "collapsed": true
   },
   "outputs": [],
   "source": [
    "# create a vector\n",
    "a = [1,2,3,4]\n",
    "\n",
    "# create a Matrix\n",
    "A = [[1,2,4],[2,4,5],[9,0,1]]"
   ]
  },
  {
   "cell_type": "markdown",
   "metadata": {},
   "source": [
    "NumPy (short for Numerical Python) provides an easy and efficient way to deal with vectors, matrices and multi-dimensional arrays. "
   ]
  },
  {
   "cell_type": "code",
   "execution_count": 1,
   "metadata": {
    "collapsed": false
   },
   "outputs": [
    {
     "data": {
      "text/plain": [
       "'1.15.4'"
      ]
     },
     "execution_count": 1,
     "metadata": {},
     "output_type": "execute_result"
    }
   ],
   "source": [
    "import numpy as np\n",
    "np.__version__"
   ]
  },
  {
   "cell_type": "markdown",
   "metadata": {},
   "source": [
    "### Creating arrays"
   ]
  },
  {
   "cell_type": "markdown",
   "metadata": {},
   "source": [
    "#### From lists"
   ]
  },
  {
   "cell_type": "code",
   "execution_count": 6,
   "metadata": {
    "collapsed": false
   },
   "outputs": [
    {
     "data": {
      "text/plain": [
       "array([1, 2, 3, 4])"
      ]
     },
     "execution_count": 6,
     "metadata": {},
     "output_type": "execute_result"
    }
   ],
   "source": [
    "np.array([1,2,3,4]) # 1D array"
   ]
  },
  {
   "cell_type": "code",
   "execution_count": 7,
   "metadata": {
    "collapsed": true
   },
   "outputs": [],
   "source": [
    "# 2-D array\n",
    "A = np.array([[1,2,4],[2,4,5],[9,0,1]])"
   ]
  },
  {
   "cell_type": "markdown",
   "metadata": {},
   "source": [
    "If we want to explicitly set the data type of the resulting array, we can use the `dtype` keyword:"
   ]
  },
  {
   "cell_type": "code",
   "execution_count": 5,
   "metadata": {
    "collapsed": false
   },
   "outputs": [
    {
     "data": {
      "text/plain": [
       "array([1., 2., 3., 4.], dtype=float32)"
      ]
     },
     "execution_count": 5,
     "metadata": {},
     "output_type": "execute_result"
    }
   ],
   "source": [
    "np.array([1,2,3,4],dtype=\"float32\")"
   ]
  },
  {
   "cell_type": "markdown",
   "metadata": {},
   "source": [
    "#### Generating arrays from scratch"
   ]
  },
  {
   "cell_type": "code",
   "execution_count": 8,
   "metadata": {
    "collapsed": false
   },
   "outputs": [
    {
     "data": {
      "text/plain": [
       "array([[1., 1., 1., 1., 1., 1.],\n",
       "       [1., 1., 1., 1., 1., 1.],\n",
       "       [1., 1., 1., 1., 1., 1.],\n",
       "       [1., 1., 1., 1., 1., 1.]])"
      ]
     },
     "execution_count": 8,
     "metadata": {},
     "output_type": "execute_result"
    }
   ],
   "source": [
    "# Initalize 4x6 matrix of ones\n",
    "np.ones((4,6))"
   ]
  },
  {
   "cell_type": "code",
   "execution_count": 9,
   "metadata": {
    "collapsed": false
   },
   "outputs": [
    {
     "data": {
      "text/plain": [
       "array([0, 0, 0, 0, 0, 0, 0, 0, 0, 0])"
      ]
     },
     "execution_count": 9,
     "metadata": {},
     "output_type": "execute_result"
    }
   ],
   "source": [
    "# Integer-vectors of zeros\n",
    "np.zeros(10,dtype=\"int\")"
   ]
  },
  {
   "cell_type": "code",
   "execution_count": 10,
   "metadata": {
    "collapsed": false
   },
   "outputs": [
    {
     "data": {
      "text/plain": [
       "array([0, 1, 2, 3, 4, 5, 6, 7, 8, 9])"
      ]
     },
     "execution_count": 10,
     "metadata": {},
     "output_type": "execute_result"
    }
   ],
   "source": [
    "# First 10 non-negative integers\n",
    "np.arange(10)"
   ]
  },
  {
   "cell_type": "code",
   "execution_count": 11,
   "metadata": {
    "collapsed": false
   },
   "outputs": [
    {
     "data": {
      "text/plain": [
       "array([-1. , -0.6, -0.2,  0.2,  0.6])"
      ]
     },
     "execution_count": 11,
     "metadata": {},
     "output_type": "execute_result"
    }
   ],
   "source": [
    "# Sequences of numbers between -1 and 1 spaced by 0.4\n",
    "np.arange(-1,1,0.4)"
   ]
  },
  {
   "cell_type": "code",
   "execution_count": 13,
   "metadata": {
    "collapsed": false
   },
   "outputs": [
    {
     "data": {
      "text/plain": [
       "array([0.33387321, 0.87082134, 0.19646505])"
      ]
     },
     "execution_count": 13,
     "metadata": {},
     "output_type": "execute_result"
    }
   ],
   "source": [
    "# 1d array of uniformly distributed random variables\n",
    "np.random.seed(1245) # set seed for reproducibility\n",
    "np.random.rand(3)"
   ]
  },
  {
   "cell_type": "code",
   "execution_count": 15,
   "metadata": {
    "collapsed": false
   },
   "outputs": [
    {
     "data": {
      "text/plain": [
       "array([[ 0.83129165, -0.37241604,  0.35204428,  1.33616114,  0.70150022],\n",
       "       [-2.46555026, -1.63379782, -1.00826853, -0.06622413, -0.8335258 ],\n",
       "       [-0.86300059, -0.41451807,  1.33984068, -1.11145319,  2.56339766]])"
      ]
     },
     "execution_count": 15,
     "metadata": {},
     "output_type": "execute_result"
    }
   ],
   "source": [
    "# 2d array of standard normal distributed variables\n",
    "np.random.seed(1245)\n",
    "np.random.randn(3,5)"
   ]
  },
  {
   "cell_type": "code",
   "execution_count": 21,
   "metadata": {
    "collapsed": false
   },
   "outputs": [
    {
     "data": {
      "text/plain": [
       "array([[[6, 5, 3, 5, 0],\n",
       "        [6, 9, 3, 4, 6],\n",
       "        [9, 4, 9, 5, 2],\n",
       "        [7, 9, 7, 1, 2]],\n",
       "\n",
       "       [[9, 3, 9, 8, 8],\n",
       "        [7, 1, 7, 5, 5],\n",
       "        [2, 2, 4, 0, 4],\n",
       "        [1, 8, 2, 5, 6]],\n",
       "\n",
       "       [[6, 5, 1, 5, 4],\n",
       "        [6, 6, 0, 2, 7],\n",
       "        [6, 7, 6, 0, 7],\n",
       "        [7, 4, 5, 9, 1]]])"
      ]
     },
     "execution_count": 21,
     "metadata": {},
     "output_type": "execute_result"
    }
   ],
   "source": [
    "# 3d array of integers\n",
    "np.random.seed(1245)\n",
    "np.random.randint(10, size=(3, 4, 5))"
   ]
  },
  {
   "cell_type": "markdown",
   "metadata": {},
   "source": [
    "**Exercise**: Generate a 1darray (size 6) and 2darray (dimensions 5x4) of uniformly distributed rvs using the randn function. Use seed 678. Denote these arrays by x and x2 respectively."
   ]
  },
  {
   "cell_type": "code",
   "execution_count": 40,
   "metadata": {
    "collapsed": false
   },
   "outputs": [],
   "source": [
    "# Arrays to be used for demonstration\n",
    "### YOUR CODE GOES HERE"
   ]
  },
  {
   "cell_type": "markdown",
   "metadata": {},
   "source": [
    "### Array attributes"
   ]
  },
  {
   "cell_type": "code",
   "execution_count": 34,
   "metadata": {
    "collapsed": false
   },
   "outputs": [
    {
     "name": "stdout",
     "output_type": "stream",
     "text": [
      "Array ndim:  1\n",
      "Array shape:  (6,)\n",
      "Array size:  6\n",
      "Array dtype:  float64\n"
     ]
    }
   ],
   "source": [
    "# Basic array attributes\n",
    "print(\"Array ndim: \",x.ndim)\n",
    "print(\"Array shape: \",x.shape)\n",
    "print(\"Array size: \",x.size)\n",
    "print(\"Array dtype: \",x.dtype)"
   ]
  },
  {
   "cell_type": "code",
   "execution_count": 35,
   "metadata": {
    "collapsed": false,
    "scrolled": true
   },
   "outputs": [
    {
     "name": "stdout",
     "output_type": "stream",
     "text": [
      "Array ndim:  2\n",
      "Array shape:  (5, 4)\n",
      "Array size:  20\n",
      "Array dtype:  float64\n"
     ]
    }
   ],
   "source": [
    "# Basic array attributes\n",
    "print(\"Array ndim: \",x2.ndim)\n",
    "print(\"Array shape: \",x2.shape)\n",
    "print(\"Array size: \",x2.size)\n",
    "print(\"Array dtype: \",x2.dtype)"
   ]
  },
  {
   "cell_type": "markdown",
   "metadata": {},
   "source": [
    "### Array subsetting"
   ]
  },
  {
   "cell_type": "markdown",
   "metadata": {},
   "source": [
    " #### Single elements"
   ]
  },
  {
   "cell_type": "code",
   "execution_count": 42,
   "metadata": {
    "collapsed": false
   },
   "outputs": [],
   "source": [
    "# Single element - 1d array\n",
    "# Print the first, last and the element at index 2\n",
    "# Remember that the index begins at 0\n",
    "#### YOUR CODE GOES HERE"
   ]
  },
  {
   "cell_type": "code",
   "execution_count": 41,
   "metadata": {
    "collapsed": false
   },
   "outputs": [],
   "source": [
    "# Single element - 2d array\n",
    "# Need two indices\n",
    "# Print the element in the last row and the last but one column\n",
    "### YOUR CODE GOES HERE"
   ]
  },
  {
   "cell_type": "markdown",
   "metadata": {},
   "source": [
    "#### Slices and subarrays"
   ]
  },
  {
   "cell_type": "markdown",
   "metadata": {},
   "source": [
    "The syntax for a 1d array is as follows:\n",
    "\n",
    "```python\n",
    "x[start:stop:step]\n",
    "```\n",
    "\n",
    "If not provided, the default values are start = 0, stop = size of dimension, step = 1. Note that stop is exclusive, while stary is inclusive.\n",
    "\n",
    "This is similar for multi-dimensional arrays with multiple slices separated by commas."
   ]
  },
  {
   "cell_type": "markdown",
   "metadata": {},
   "source": [
    "**Exercise**: For the 1d array, do the following:\n",
    "\n",
    "1. subset elements from index 2 to index 4, both included\n",
    "2. subset all elements except the first\n",
    "3. subset all elements except the last\n",
    "4. subset every other element"
   ]
  },
  {
   "cell_type": "code",
   "execution_count": null,
   "metadata": {
    "collapsed": true
   },
   "outputs": [],
   "source": [
    "### YOUR CODE GOES HERE"
   ]
  },
  {
   "cell_type": "markdown",
   "metadata": {},
   "source": [
    "**Exercise**: For the 2d array, do the following:\n",
    "\n",
    "1. subset rows 1 to 3 and columns 1 to 2\n",
    "2. assign 1 to all elements of the 3rd column (column 2)\n",
    "3. subset the last but one row"
   ]
  },
  {
   "cell_type": "code",
   "execution_count": null,
   "metadata": {
    "collapsed": true
   },
   "outputs": [],
   "source": [
    "### YOUR CODE GOES HERE"
   ]
  },
  {
   "cell_type": "markdown",
   "metadata": {},
   "source": [
    "#### Logical subsetting"
   ]
  },
  {
   "cell_type": "code",
   "execution_count": null,
   "metadata": {
    "collapsed": true
   },
   "outputs": [],
   "source": [
    "# subset only non-negative elements\n",
    "x[x>0]"
   ]
  },
  {
   "cell_type": "markdown",
   "metadata": {},
   "source": [
    "### Basic math and broadcasting"
   ]
  },
  {
   "cell_type": "markdown",
   "metadata": {
    "collapsed": true
   },
   "source": [
    "Basic arithmetic operators work on a element-by-element basis. For example:"
   ]
  },
  {
   "cell_type": "code",
   "execution_count": 32,
   "metadata": {
    "collapsed": false
   },
   "outputs": [
    {
     "data": {
      "text/plain": [
       "array([ 6. , 16. ,  2.5])"
      ]
     },
     "execution_count": 32,
     "metadata": {},
     "output_type": "execute_result"
    }
   ],
   "source": [
    "np.array([2.,4.,0.5]) * np.array([3,4,5])"
   ]
  },
  {
   "cell_type": "markdown",
   "metadata": {},
   "source": [
    "NumPy has a feature called **broadcasting** which allows these operations to performed on arrays with different shapes. Subject to certain constraints, the smaller array is “broadcast” across the larger array so that they have compatible shapes. "
   ]
  },
  {
   "cell_type": "markdown",
   "metadata": {},
   "source": [
    "**General broadcasting rules:** (from the NumPy documentation)\n",
    "\n",
    "When operating on two arrays, NumPy compares their shapes element-wise. It starts with the trailing dimensions, and works its way forward. Two dimensions are compatible when\n",
    "\n",
    "1. they are equal, or\n",
    "2. one of them is 1\n",
    "\n",
    "If these conditions are not met, a \"ValueError: frames are not aligned\" exception is thrown, indicating that the arrays have incompatible shapes. The size of the resulting array is the maximum size along each dimension of the input arrays.\n",
    "\n",
    "For a more detailed explanation and examples of compatiable, refer https://docs.scipy.org/doc/numpy-1.15.0/user/basics.broadcasting.html"
   ]
  },
  {
   "cell_type": "code",
   "execution_count": 36,
   "metadata": {
    "collapsed": false
   },
   "outputs": [
    {
     "name": "stdout",
     "output_type": "stream",
     "text": [
      "[[0.33387321 0.87082134 0.19646505]\n",
      " [0.05206824 0.9071344  0.06689521]\n",
      " [0.79998576 0.57903857 0.40696955]\n",
      " [0.52646909 0.39550806 0.33068131]\n",
      " [0.08150117 0.46675002 0.32785017]]\n",
      "[[3.33387321 4.87082134 5.19646505]\n",
      " [3.05206824 4.9071344  5.06689521]\n",
      " [3.79998576 4.57903857 5.40696955]\n",
      " [3.52646909 4.39550806 5.33068131]\n",
      " [3.08150117 4.46675002 5.32785017]]\n"
     ]
    }
   ],
   "source": [
    "# Application: centering columns of 2-d array by a 1-d array\n",
    "np.random.seed(1245)\n",
    "x = np.random.rand(5,3)\n",
    "\n",
    "print(x)\n",
    "print(x+np.array([3,4,5]))"
   ]
  },
  {
   "cell_type": "markdown",
   "metadata": {},
   "source": [
    "###  Common array methods"
   ]
  },
  {
   "cell_type": "markdown",
   "metadata": {},
   "source": [
    "Some examples:\n",
    "\n",
    "| Method call            | Function alternative      | Description                                                 |\n",
    "|------------------------|---------------------------|-------------------------------------------------------------|\n",
    "| x.min()                | np.amin(x)                | Minimum of all elements in array                            |\n",
    "| x.sum()                | np.sum(x)                 | Sum of all elements in array                                |\n",
    "| x.mean(axis=0)         | np.mean(x,axis=0)         | Mean of elements across axis 0 (if 2d array - column means) |\n",
    "| x.sort(axis=1)         | np.sort(x,axis=1)         | Sort array across axis 1 in increasing order                |\n",
    "| x.std(axis=0)          | np.std(x,axis=0)          | Standard deviation of elements across axis 0                |\n",
    "| x.max(axis=1)          | np.amax(x,axis=1)         | Maximum of elements across axis 1)                          |\n",
    "| x.argmax()             | np.argmax(x)              | Returns the indices of the maximum values                   |\n",
    "| x.reshape(<new_shape>) | np.reshape(x,<new_shape>) | Reshape array according to new shape                        |"
   ]
  },
  {
   "cell_type": "markdown",
   "metadata": {},
   "source": [
    "**Exercise**: Write a function named `normalize` which accepts a 1d or a 2d array and then performs the following operation:\n",
    "\n",
    "- if the input is a 1d array, center it by its mean and then scale by its standard deviation\n",
    "- if the input is a 2d array, center and scale each column by its respective mean and standard deviation\n",
    "\n",
    "The function should return three arguments: the normalized array (x_normalized), centering factor (loc) and scale factor (scale)."
   ]
  },
  {
   "cell_type": "code",
   "execution_count": 21,
   "metadata": {
    "collapsed": false
   },
   "outputs": [],
   "source": [
    "# input arrays to test on\n",
    "np.random.seed(234)\n",
    "x = 4 + 2*np.random.randn(10,1)\n",
    "x2 = np.array([2,5,3]) + np.array([2,1,3])*np.random.rand(10,3)\n",
    "\n",
    "### YOUR CODE GOES HERE"
   ]
  },
  {
   "cell_type": "markdown",
   "metadata": {},
   "source": [
    "## Input from files "
   ]
  },
  {
   "cell_type": "code",
   "execution_count": 29,
   "metadata": {
    "collapsed": false
   },
   "outputs": [
    {
     "name": "stdout",
     "output_type": "stream",
     "text": [
      "Column names:\n",
      "['Sepal_length', 'Sepal_width', 'Petal_length', 'Petal_width', 'Species']\n",
      "\n",
      "First 5 rows:\n",
      "[[5.1 3.5 1.4 0.2 0. ]\n",
      " [4.9 3.  1.4 0.2 0. ]\n",
      " [4.7 3.2 1.3 0.2 0. ]\n",
      " [4.6 3.1 1.5 0.2 0. ]\n",
      " [5.  3.6 1.4 0.2 0. ]]\n"
     ]
    }
   ],
   "source": [
    "import csv\n",
    "iris_list = []\n",
    "\n",
    "# You can use the \"with open()\" syntax for any file - just remember to replace csv.reader\n",
    "# with the corresponding file parser. We will be using this syntax for saving\n",
    "# model data in the later labs\n",
    "with open(\"../data/iris.csv\") as f:\n",
    "    csv_reader = csv.reader(f,delimiter=',')\n",
    "    # extract header and array data\n",
    "    line_count = 0\n",
    "    for row in csv_reader:\n",
    "        if line_count == 0:\n",
    "            col_names = row\n",
    "        else:\n",
    "            iris_list.append(row)\n",
    "        line_count += 1\n",
    "\n",
    "iris = np.array(iris_list,dtype=float)\n",
    "\n",
    "print(\"Column names:\")\n",
    "print(col_names)\n",
    "print(\"\\nFirst 5 rows:\")\n",
    "print(iris[range(5),:])\n",
    "        "
   ]
  },
  {
   "cell_type": "code",
   "execution_count": 5,
   "metadata": {
    "collapsed": false
   },
   "outputs": [
    {
     "name": "stdout",
     "output_type": "stream",
     "text": [
      "[[5.1 3.5 1.4 0.2 0. ]\n",
      " [4.9 3.  1.4 0.2 0. ]\n",
      " [4.7 3.2 1.3 0.2 0. ]\n",
      " [4.6 3.1 1.5 0.2 0. ]\n",
      " [5.  3.6 1.4 0.2 0. ]]\n"
     ]
    }
   ],
   "source": [
    "# Using numpy without returning column names\n",
    "iris = np.genfromtxt(\"../data/iris.csv\",delimiter=\",\",names=None,skip_header=1)\n",
    "print(iris[range(5),:])"
   ]
  },
  {
   "cell_type": "markdown",
   "metadata": {},
   "source": [
    "## Plots"
   ]
  },
  {
   "cell_type": "markdown",
   "metadata": {},
   "source": [
    "matplotlib is a widely used plotting library. Its submodule pyplot is used for 2d plots."
   ]
  },
  {
   "cell_type": "code",
   "execution_count": 12,
   "metadata": {
    "collapsed": false
   },
   "outputs": [
    {
     "data": {
      "image/png": "[encoded data removed]",
      "text/plain": [
       "<Figure size 432x288 with 1 Axes>"
      ]
     },
     "metadata": {},
     "output_type": "display_data"
    }
   ],
   "source": [
    "# uncomment the following lines if you haven't imported pyplot before\n",
    "# import matplotlib.pyplot as plt\n",
    "# %matplotlib inline\n",
    "\n",
    "# Data for scatter plot demonstration\n",
    "np.random.seed(3456)\n",
    "x = np.random.randn(100)\n",
    "y = np.random.randn(100) + 0.01*x\n",
    "c = 1*(x > 0) + 1*(y>0) # color labels for the points\n",
    "\n",
    "# Scatter plot\n",
    "f = plt.figure()\n",
    "plt.scatter(x,y,c=c);\n",
    "# Axis labels\n",
    "plt.xlabel(\"X-label\")\n",
    "plt.ylabel(\"Y-label\")\n",
    "plt.show()"
   ]
  },
  {
   "cell_type": "code",
   "execution_count": 6,
   "metadata": {
    "collapsed": false
   },
   "outputs": [
    {
     "data": {
      "image/png": "[encoded data removed]",
      "text/plain": [
       "<Figure size 432x288 with 1 Axes>"
      ]
     },
     "metadata": {},
     "output_type": "display_data"
    }
   ],
   "source": [
    "# Data for line plot demonstration\n",
    "x = np.array([0,2,3,4,5,10,15,20,27,40])\n",
    "y1 = np.exp(-0.3-0.5*x)\n",
    "y2 = np.exp(-0.5-0.2*x)\n",
    "\n",
    "# Adjust figure size\n",
    "plt.rcParams['figure.figsize']  = [6,4]\n",
    "\n",
    "# Line plot with two different series\n",
    "f = plt.figure()\n",
    "plt.plot(x,y1,\"-ro\",label=\"Red\")\n",
    "plt.plot(x,y2,\"-bo\",label=\"Blue\")\n",
    "# Axis labels\n",
    "plt.xlabel(\"X-label\")\n",
    "plt.ylabel(\"Y-label\")\n",
    "# Legend - loc = 0:best, 1:upperight, 2:upperleft, 3:lowerleft, 4:lowerright, 5:right  \n",
    "plt.legend(loc = 0)\n",
    "plt.show()\n",
    "f.savefig(\"test.png\")"
   ]
  },
  {
   "cell_type": "markdown",
   "metadata": {
    "collapsed": false
   },
   "source": [
    "**Exercise**: Do a scatter plot of the first two columns of the dataset and color code the points using the last column. The first two columns are 'Sepal_length' and 'Sepal_width'."
   ]
  },
  {
   "cell_type": "code",
   "execution_count": null,
   "metadata": {
    "collapsed": true
   },
   "outputs": [],
   "source": [
    "### YOUR CODE GOES HERE"
   ]
  },
  {
   "cell_type": "markdown",
   "metadata": {},
   "source": [
    " For a more detailed tutorial on pyplot, check https://matplotlib.org/users/pyplot_tutorial.html"
   ]
  },
  {
   "cell_type": "markdown",
   "metadata": {},
   "source": [
    "## Introduction to Scikit-learn models"
   ]
  },
  {
   "cell_type": "markdown",
   "metadata": {
    "collapsed": true
   },
   "source": [
    "Scikit-learn is a popular machine learning library that has implementations of a large number of common algorithms, including ones for text processing. An advantage of scikit-learn is a consistent syntax across different kinds of models. The models are trepresented by `Estimator` classes."
   ]
  },
  {
   "cell_type": "markdown",
   "metadata": {
    "collapsed": true
   },
   "source": [
    "Estimator classes for fitting models typically have the following methods:\n",
    "\n",
    "| Method             | Description                                                         |\n",
    "|--------------------|---------------------------------------------------------------------|\n",
    "| .fit(X,y)          | Fits the model on the data. y is not needed for unsupervised models |\n",
    "| .predict(X)        | Returns predictions (either values or labels) on the new data       |\n",
    "| .predict_proba(X)  | Returns class probabilities on the new data (when applicable)       |\n",
    "| .get_params()      | Get the model parameters                                            |\n",
    "| .set_params(theta) | Set the model parameters to theta (CAUTION)                         |\n",
    "| .score(X,y)        | Returns the prediction score on the new data                        |"
   ]
  },
  {
   "cell_type": "code",
   "execution_count": 27,
   "metadata": {
    "collapsed": false
   },
   "outputs": [],
   "source": [
    "# Train logistic regression model on the iris dataset\n",
    "\n",
    "# uncomment the two import lines if you haven't imported them previously\n",
    "# from sklearn.linear_model import LogisticRegression\n",
    "# from sklearn.metrics import accuracy_score\n",
    "\n",
    "## STEP 1: Subset the predictors and the labels for the iris dataset\n",
    "## Denote them by X and y respectively\n",
    "## The labels are the last column in the dataset\n",
    "### YOUR CODE GOES HERE\n",
    "\n",
    "## STEP 2: Standardize each of the predictors/features:\n",
    "## Use the standardize function that your have written in the numpy section\n",
    "### YOUR CODE GOES HERE\n",
    "\n",
    "## STEP 3: Create a logistic regression object, fit it to the iris data\n",
    "# initialize classifier with specific options\n",
    "clf = LogisticRegression(random_state=5, solver='lbfgs',multi_class='multinomial')\n",
    "clf.fit(X,y) # fit model to data\n",
    "\n",
    "## STEP 4: Report the training accuracy score\n",
    "y_pred = clf.predict(X)\n",
    "accuracy_score(y,y_pred)"
   ]
  },
  {
   "cell_type": "markdown",
   "metadata": {},
   "source": [
    "**Exercise**: Fit a radial-basis support vector machine for classification on the iris dataset. For classification, the estimator class is SVC. Initialize the SVC with arguments `random_state` = 1, `kernel` = 'rbf' and `gamma` = 0.25 "
   ]
  },
  {
   "cell_type": "code",
   "execution_count": null,
   "metadata": {
    "collapsed": true
   },
   "outputs": [],
   "source": [
    "# Train SVM on the iris dataset\n",
    "from sklearn.svm import SVC\n",
    "\n",
    "### YOUR CODE GOES HERE"
   ]
  }
 ],
 "metadata": {
  "kernelspec": {
   "display_name": "Python 3",
   "language": "python",
   "name": "python3"
  },
  "language_info": {
   "codemirror_mode": {
    "name": "ipython",
    "version": 3
   },
   "file_extension": ".py",
   "mimetype": "text/x-python",
   "name": "python",
   "nbconvert_exporter": "python",
   "pygments_lexer": "ipython3",
   "version": "3.6.0"
  }
 },
 "nbformat": 4,
 "nbformat_minor": 2
}
